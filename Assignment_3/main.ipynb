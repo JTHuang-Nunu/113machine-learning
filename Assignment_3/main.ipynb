{
 "cells": [
  {
   "cell_type": "code",
   "execution_count": 1,
   "metadata": {},
   "outputs": [
    {
     "name": "stdout",
     "output_type": "stream",
     "text": [
      "Epoch [100/1000], Loss: 0.5407\n",
      "Epoch [200/1000], Loss: 0.4644\n",
      "Epoch [300/1000], Loss: 0.4243\n",
      "Epoch [400/1000], Loss: 0.3996\n",
      "Epoch [500/1000], Loss: 0.3829\n",
      "Epoch [600/1000], Loss: 0.3709\n",
      "Epoch [700/1000], Loss: 0.3620\n",
      "Epoch [800/1000], Loss: 0.3550\n",
      "Epoch [900/1000], Loss: 0.3495\n",
      "Epoch [1000/1000], Loss: 0.3451\n",
      "Accuracy: 0.8400\n"
     ]
    }
   ],
   "source": [
    "import torch\n",
    "import torch.nn as nn\n",
    "import torch.optim as optim\n",
    "from sklearn.datasets import make_classification\n",
    "from sklearn.model_selection import train_test_split\n",
    "from sklearn.preprocessing import StandardScaler\n",
    "\n",
    "# 產生二分類資料集\n",
    "num_feature = 20\n",
    "X, y = make_classification(n_samples=1000, n_features=num_feature, n_classes=2, random_state=42)\n",
    "\n",
    "# 將資料分成訓練集與測試集\n",
    "X_train, X_test, y_train, y_test = train_test_split(X, y, test_size=0.2, random_state=42)\n",
    "\n",
    "# 標準化特徵\n",
    "scaler = StandardScaler()\n",
    "X_train = scaler.fit_transform(X_train)\n",
    "X_test = scaler.transform(X_test)\n",
    "\n",
    "# 將資料轉換成 PyTorch tensor\n",
    "X_train = torch.tensor(X_train, dtype=torch.float32)\n",
    "y_train = torch.tensor(y_train, dtype=torch.float32).unsqueeze(1)\n",
    "X_test = torch.tensor(X_test, dtype=torch.float32)\n",
    "y_test = torch.tensor(y_test, dtype=torch.float32).unsqueeze(1)\n",
    "\n",
    "# 定義 Logistic Regression 模型（實際上是一層神經網路）\n",
    "class LogisticRegressionModel(nn.Module):\n",
    "    def __init__(self, input_dim):\n",
    "        super(LogisticRegressionModel, self).__init__()\n",
    "        # 單一線性層\n",
    "        self.linear = nn.Linear(input_dim, 1)\n",
    "    \n",
    "    def forward(self, x):\n",
    "        # 前向傳播：線性變換 + Sigmoid\n",
    "        return torch.sigmoid(self.linear(x))\n",
    "\n",
    "# 初始化模型、損失函數與優化器\n",
    "model = LogisticRegressionModel(input_dim=num_feature)       # Load the feature of classification task\n",
    "criterion = nn.BCELoss()                                     # 使用二元交叉熵作為損失函數\n",
    "optimizer = optim.SGD(model.parameters(), lr=0.01)           # 使用隨機梯度下降法\n",
    "\n",
    "# 訓練模型\n",
    "num_epochs = 1000\n",
    "for epoch in range(num_epochs):\n",
    "    # 前向傳播\n",
    "    outputs = model(X_train)\n",
    "    loss = criterion(outputs, y_train)\n",
    "    \n",
    "    # 反向傳播和優化\n",
    "    optimizer.zero_grad()  # 梯度歸零\n",
    "    loss.backward()  # 反向傳播\n",
    "    optimizer.step()  # 更新權重\n",
    "    \n",
    "    if (epoch+1) % 100 == 0:\n",
    "        print(f'Epoch [{epoch+1}/{num_epochs}], Loss: {loss.item():.4f}')\n",
    "\n",
    "# 測試模型\n",
    "with torch.no_grad():  # 測試時不需要計算梯度\n",
    "    predicted = model(X_test)\n",
    "    predicted = (predicted > 0.5).float()  # 閾值設為 0.5 進行分類\n",
    "    accuracy = (predicted == y_test).sum() / y_test.size(0)\n",
    "    print(f'Accuracy: {accuracy:.4f}')\n"
   ]
  }
 ],
 "metadata": {
  "kernelspec": {
   "display_name": "base",
   "language": "python",
   "name": "python3"
  },
  "language_info": {
   "codemirror_mode": {
    "name": "ipython",
    "version": 3
   },
   "file_extension": ".py",
   "mimetype": "text/x-python",
   "name": "python",
   "nbconvert_exporter": "python",
   "pygments_lexer": "ipython3",
   "version": "3.12.5"
  }
 },
 "nbformat": 4,
 "nbformat_minor": 2
}

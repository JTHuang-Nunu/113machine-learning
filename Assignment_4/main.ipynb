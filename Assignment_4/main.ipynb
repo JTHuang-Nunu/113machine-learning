{
 "cells": [
  {
   "cell_type": "code",
   "execution_count": 54,
   "metadata": {},
   "outputs": [],
   "source": [
    "from sklearn.datasets import load_iris\n",
    "from sklearn.model_selection import train_test_split\n",
    "from sklearn.preprocessing import StandardScaler, OneHotEncoder\n",
    "import torch\n",
    "import torch.nn as nn\n",
    "import torch.optim as optim\n",
    "import numpy as np\n",
    "\n",
    "# 載入 Iris 資料集\n",
    "iris = load_iris()\n",
    "X = iris.data  # 特徵: sepal length, sepal width, petal length, petal width\n",
    "y = iris.target  # 類別標籤\n",
    "\n",
    "# 資料標準化\n",
    "scaler = StandardScaler()\n",
    "X = scaler.fit_transform(X)\n",
    "\n",
    "# 分類任務: 將 y one-hot 編碼\n",
    "encoder = OneHotEncoder(sparse_output=False)\n",
    "y_classification = encoder.fit_transform(y.reshape(-1, 1))\n",
    "\n",
    "# 回歸任務: 使用原始類別數字 (不做 One-hot)\n",
    "y_regression = y.astype(np.float32)\n",
    "\n",
    "# 分割訓練和測試資料\n",
    "X_train, X_test, y_train_cls, y_test_cls = train_test_split(X, y_classification, test_size=0.2, random_state=42)\n",
    "X_train_reg, X_test_reg, y_train_reg, y_test_reg = train_test_split(X, y_regression, test_size=0.2, random_state=42)\n",
    "\n",
    "# 轉為 PyTorch Tensor\n",
    "X_train, X_test = torch.tensor(X_train, dtype=torch.float32), torch.tensor(X_test, dtype=torch.float32)\n",
    "y_train_cls, y_test_cls = torch.tensor(y_train_cls, dtype=torch.float32), torch.tensor(y_test_cls, dtype=torch.float32)\n",
    "X_train_reg, X_test_reg = torch.tensor(X_train_reg, dtype=torch.float32), torch.tensor(X_test_reg, dtype=torch.float32)\n",
    "y_train_reg, y_test_reg = torch.tensor(y_train_reg, dtype=torch.float32), torch.tensor(y_test_reg, dtype=torch.float32)\n"
   ]
  },
  {
   "cell_type": "code",
   "execution_count": null,
   "metadata": {},
   "outputs": [
    {
     "name": "stdout",
     "output_type": "stream",
     "text": [
      "Epoch [10/100], Loss: 1.0334\n",
      "Epoch [20/100], Loss: 0.8819\n",
      "Epoch [30/100], Loss: 0.7345\n",
      "Epoch [40/100], Loss: 0.6658\n",
      "Epoch [50/100], Loss: 0.6183\n",
      "Epoch [60/100], Loss: 0.5943\n",
      "Epoch [70/100], Loss: 0.5844\n",
      "Epoch [80/100], Loss: 0.5791\n",
      "Epoch [90/100], Loss: 0.5761\n",
      "Epoch [100/100], Loss: 0.5742\n"
     ]
    }
   ],
   "source": [
    "class ClassificationModel(nn.Module):\n",
    "    def __init__(self):\n",
    "        super(ClassificationModel, self).__init__()\n",
    "        self.fc1 = nn.Linear(4, 16)  # 輸入層到隱藏層\n",
    "        self.fc2 = nn.Linear(16, 8)  # 隱藏層到隱藏層\n",
    "        self.fc3 = nn.Linear(8, 3)   # 隱藏層到輸出層\n",
    "        self.softmax = nn.Softmax(dim=1)\n",
    "\n",
    "    def forward(self, x):\n",
    "        x = torch.relu(self.fc1(x))\n",
    "        x = torch.relu(self.fc2(x))\n",
    "        x = self.fc3(x)\n",
    "        return self.softmax(x)\n",
    "\n",
    "# 初始化模型\n",
    "model_cls = ClassificationModel()\n",
    "criterion_cls = nn.CrossEntropyLoss()\n",
    "optimizer_cls = optim.Adam(model_cls.parameters(), lr=0.01)\n",
    "\n",
    "# 訓練模型\n",
    "for epoch in range(100):\n",
    "    optimizer_cls.zero_grad()\n",
    "    outputs = model_cls(X_train)\n",
    "    loss = criterion_cls(outputs, torch.argmax(y_train_cls, dim=1))\n",
    "    loss.backward()\n",
    "    optimizer_cls.step()\n",
    "\n",
    "    if (epoch+1) % 10 == 0:\n",
    "        print(f'Epoch [{epoch+1}/100], Loss: {loss.item():.4f}')\n"
   ]
  },
  {
   "cell_type": "code",
   "execution_count": 58,
   "metadata": {},
   "outputs": [
    {
     "name": "stdout",
     "output_type": "stream",
     "text": [
      "Accuracy: 1.0000\n"
     ]
    }
   ],
   "source": [
    "from sklearn.metrics import accuracy_score\n",
    "\n",
    "# 模型評估\n",
    "model_cls.eval()  # 設置模型為評估模式\n",
    "with torch.no_grad():\n",
    "    outputs = model_cls(X_test)  # 預測輸出\n",
    "    predicted = torch.argmax(outputs, dim=1)  # 獲取預測的類別\n",
    "    actual = torch.argmax(y_test_cls, dim=1)  # 真實的類別\n",
    "\n",
    "accuracy = accuracy_score(actual.cpu(), predicted.cpu())  # 計算準確率\n",
    "print(f'Accuracy: {accuracy:.4f}')\n"
   ]
  },
  {
   "cell_type": "code",
   "execution_count": 61,
   "metadata": {},
   "outputs": [
    {
     "name": "stdout",
     "output_type": "stream",
     "text": [
      "Precision: 1.0000\n",
      "Recall: 1.0000\n",
      "F1 Score: 1.0000\n",
      "Confusion Matrix:\n",
      "[[10  0  0]\n",
      " [ 0  9  0]\n",
      " [ 0  0 11]]\n"
     ]
    }
   ],
   "source": [
    "from sklearn.metrics import precision_score, recall_score, f1_score\n",
    "\n",
    "precision = precision_score(actual.cpu(), predicted.cpu(), average='weighted')  # 加權平均精確率\n",
    "recall = recall_score(actual.cpu(), predicted.cpu(), average='weighted')        # 加權平均召回率\n",
    "f1 = f1_score(actual.cpu(), predicted.cpu(), average='weighted')                # 加權平均 F1-score\n",
    "\n",
    "print(f'Precision: {precision:.4f}')\n",
    "print(f'Recall: {recall:.4f}')\n",
    "print(f'F1 Score: {f1:.4f}')\n",
    "\n",
    "\n",
    "from sklearn.metrics import confusion_matrix\n",
    "\n",
    "conf_matrix = confusion_matrix(actual.cpu(), predicted.cpu())\n",
    "print('Confusion Matrix:')\n",
    "print(conf_matrix)\n"
   ]
  },
  {
   "cell_type": "code",
   "execution_count": 56,
   "metadata": {},
   "outputs": [
    {
     "name": "stdout",
     "output_type": "stream",
     "text": [
      "Epoch [10/100], Loss: 2.0493\n",
      "Epoch [20/100], Loss: 1.8766\n",
      "Epoch [30/100], Loss: 1.7096\n",
      "Epoch [40/100], Loss: 1.5446\n",
      "Epoch [50/100], Loss: 1.3740\n",
      "Epoch [60/100], Loss: 1.1951\n",
      "Epoch [70/100], Loss: 1.0097\n",
      "Epoch [80/100], Loss: 0.8241\n",
      "Epoch [90/100], Loss: 0.6469\n",
      "Epoch [100/100], Loss: 0.4879\n",
      "Epoch [110/100], Loss: 0.3567\n",
      "Epoch [120/100], Loss: 0.2602\n",
      "Epoch [130/100], Loss: 0.1978\n",
      "Epoch [140/100], Loss: 0.1628\n",
      "Epoch [150/100], Loss: 0.1444\n",
      "Epoch [160/100], Loss: 0.1330\n",
      "Epoch [170/100], Loss: 0.1237\n",
      "Epoch [180/100], Loss: 0.1152\n",
      "Epoch [190/100], Loss: 0.1074\n",
      "Epoch [200/100], Loss: 0.1005\n"
     ]
    }
   ],
   "source": [
    "class RegressionModel(nn.Module):\n",
    "    def __init__(self):\n",
    "        super(RegressionModel, self).__init__()\n",
    "        self.fc1 = nn.Linear(4, 16)  # 輸入層到隱藏層\n",
    "        self.fc2 = nn.Linear(16, 8)  # 隱藏層到隱藏層\n",
    "        self.fc3 = nn.Linear(8, 1)   # 隱藏層到輸出層\n",
    "\n",
    "    def forward(self, x):\n",
    "        x = torch.relu(self.fc1(x))\n",
    "        x = torch.relu(self.fc2(x))\n",
    "        x = self.fc3(x)\n",
    "        return x\n",
    "\n",
    "# 初始化模型\n",
    "model_reg = RegressionModel()\n",
    "criterion_reg = nn.MSELoss()\n",
    "optimizer_reg = optim.Adam(model_reg.parameters(), lr=0.001)\n",
    "\n",
    "# 訓練模型\n",
    "for epoch in range(200):\n",
    "    optimizer_reg.zero_grad()\n",
    "    outputs = model_reg(X_train_reg)\n",
    "    loss = criterion_reg(outputs.flatten(), y_train_reg)\n",
    "    loss.backward()\n",
    "    optimizer_reg.step()\n",
    "\n",
    "    if (epoch+1) % 10 == 0:\n",
    "        print(f'Epoch [{epoch+1}/100], Loss: {loss.item():.4f}')\n"
   ]
  },
  {
   "cell_type": "code",
   "execution_count": 53,
   "metadata": {},
   "outputs": [
    {
     "name": "stdout",
     "output_type": "stream",
     "text": [
      "Regression Model RMSE: 0.0945\n",
      "Regression Model R²: 0.8647\n"
     ]
    }
   ],
   "source": [
    "from sklearn.metrics import mean_squared_error, r2_score\n",
    "\n",
    "# 預測測試資料\n",
    "with torch.no_grad():\n",
    "    y_pred_reg = model_reg(X_test_reg).flatten()  # 預測值\n",
    "    y_true_reg = torch.round(y_test_reg).int()  # 真實值 to round integer\n",
    "\n",
    "# 計算 RMSE 和 R²\n",
    "rmse_reg = mean_squared_error(y_true_reg.numpy(), y_pred_reg.numpy())\n",
    "r2_reg = r2_score(y_true_reg.numpy(), y_pred_reg.numpy())\n",
    "\n",
    "print(f'Regression Model RMSE: {rmse_reg:.4f}')\n",
    "print(f'Regression Model R²: {r2_reg:.4f}')\n"
   ]
  }
 ],
 "metadata": {
  "kernelspec": {
   "display_name": "base",
   "language": "python",
   "name": "python3"
  },
  "language_info": {
   "codemirror_mode": {
    "name": "ipython",
    "version": 3
   },
   "file_extension": ".py",
   "mimetype": "text/x-python",
   "name": "python",
   "nbconvert_exporter": "python",
   "pygments_lexer": "ipython3",
   "version": "3.12.5"
  }
 },
 "nbformat": 4,
 "nbformat_minor": 2
}

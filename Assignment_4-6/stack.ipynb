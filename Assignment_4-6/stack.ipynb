{
 "cells": [
  {
   "cell_type": "code",
   "execution_count": 1,
   "metadata": {},
   "outputs": [
    {
     "name": "stdout",
     "output_type": "stream",
     "text": [
      "Stacking accuracy: 1.0\n"
     ]
    }
   ],
   "source": [
    "from sklearn.svm import SVC\n",
    "from sklearn.tree import DecisionTreeClassifier\n",
    "from sklearn.linear_model import LogisticRegression\n",
    "from sklearn.model_selection import train_test_split\n",
    "from sklearn.datasets import load_iris\n",
    "import numpy as np\n",
    "\n",
    "# Load dataset\n",
    "data = load_iris()\n",
    "X, y = data.data, data.target\n",
    "X_train, X_test, y_train, y_test = train_test_split(X, y, test_size=0.3, random_state=42)\n",
    "\n",
    "# Train base models\n",
    "svm = SVC(probability=True).fit(X_train, y_train)\n",
    "tree = DecisionTreeClassifier().fit(X_train, y_train)\n",
    "\n",
    "# Stacking (combine predictions)\n",
    "meta_X_train = np.column_stack([svm.predict_proba(X_train), tree.predict_proba(X_train)])\n",
    "meta_X_test = np.column_stack([svm.predict_proba(X_test), tree.predict_proba(X_test)])\n",
    "\n",
    "# Train meta model\n",
    "meta_model = LogisticRegression().fit(meta_X_train, y_train)\n",
    "print(\"Stacking accuracy:\", meta_model.score(meta_X_test, y_test))\n"
   ]
  }
 ],
 "metadata": {
  "kernelspec": {
   "display_name": "base",
   "language": "python",
   "name": "python3"
  },
  "language_info": {
   "codemirror_mode": {
    "name": "ipython",
    "version": 3
   },
   "file_extension": ".py",
   "mimetype": "text/x-python",
   "name": "python",
   "nbconvert_exporter": "python",
   "pygments_lexer": "ipython3",
   "version": "3.12.5"
  }
 },
 "nbformat": 4,
 "nbformat_minor": 2
}
